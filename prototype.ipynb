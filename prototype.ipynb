{
 "cells": [
  {
   "metadata": {},
   "cell_type": "markdown",
   "source": "In case if you want to discover thought process and prototyping of final solution",
   "id": "de2244baa04fc5d2"
  },
  {
   "metadata": {},
   "cell_type": "code",
   "outputs": [],
   "execution_count": null,
   "source": [
    "from langchain_community.document_loaders.csv_loader import CSVLoader\n",
    "from langchain import hub\n",
    "from langchain_community.document_loaders import WebBaseLoader\n",
    "from langchain_core.documents import Document\n",
    "from langchain_text_splitters import RecursiveCharacterTextSplitter\n",
    "from typing_extensions import List, TypedDict\n",
    "\n",
    "file_path = \"cocktails.csv\"\n",
    "loader = CSVLoader(file_path=file_path,\n",
    "                   # content_columns=[\"name\", \"alcoholic\", \"category\", \"glassType\",\n",
    "                   #                  \"instructions\", \"ingredients\", \"ingredientMeasures\"],\n",
    "                   # source_column=\"drink_name\"\n",
    "                   )\n",
    "data = loader.load_and_split()"
   ],
   "id": "4d656585927a8ec8"
  },
  {
   "metadata": {
    "ExecuteTime": {
     "end_time": "2025-01-22T20:27:30.437738Z",
     "start_time": "2025-01-22T20:27:30.433159Z"
    }
   },
   "cell_type": "code",
   "source": "print(data[0])",
   "id": "a1f5e45bbe70262b",
   "outputs": [
    {
     "name": "stdout",
     "output_type": "stream",
     "text": [
      "page_content='drink_name: A1\n",
      "is_alcoholic: Alcoholic\n",
      "category: Cocktail\n",
      "glassType: Cocktail glass\n",
      "drink_ingredients: Gin, Grand Marnier, Lemon Juice, Grenadine\n",
      "drink_instructions: Pour all ingredients into a cocktail shaker, mix and serve over ice into a chilled glass.\n",
      "ingredientMeasures: ['1 3/4 shot ', '1 Shot ', '1/4 Shot', '1/8 Shot']' metadata={'source': 'drinks.csv', 'row': 0}\n"
     ]
    }
   ],
   "execution_count": 178
  },
  {
   "metadata": {
    "ExecuteTime": {
     "end_time": "2025-01-22T19:03:05.012609Z",
     "start_time": "2025-01-22T19:03:04.287392Z"
    }
   },
   "cell_type": "code",
   "source": [
    "import pandas as pd\n",
    "df = pd.read_csv(\"final_cocktails.csv\")"
   ],
   "id": "b40c168c67570822",
   "outputs": [],
   "execution_count": 4
  },
  {
   "metadata": {
    "ExecuteTime": {
     "end_time": "2025-01-22T19:03:05.034436Z",
     "start_time": "2025-01-22T19:03:05.017285Z"
    }
   },
   "cell_type": "code",
   "source": [
    "df = df.drop(columns=['Unnamed: 0', 'id', 'drinkThumbnail', 'text'])\n",
    "# df = df.rename(columns={\"name\": \"drink_name\", \"alcoholic\": \"is_alcoholic\", \"instructions\": \"drink_instructions\", \"ingredients\": \"drink_ingredients\"})\n",
    "df[\"ingredients\"] = df[\"ingredients\"].apply(lambda x: \", \".join(eval(x)))"
   ],
   "id": "9d430f8cfcd7c24",
   "outputs": [],
   "execution_count": 5
  },
  {
   "metadata": {
    "ExecuteTime": {
     "end_time": "2025-01-22T19:03:11.261863Z",
     "start_time": "2025-01-22T19:03:11.125527Z"
    }
   },
   "cell_type": "code",
   "source": [
    "from langchain_community.document_loaders import DataFrameLoader\n",
    "loader = DataFrameLoader(df, page_content_column=\"name\")\n",
    "data2 = loader.load_and_split()"
   ],
   "id": "c06a20b97d9963c8",
   "outputs": [],
   "execution_count": 7
  },
  {
   "metadata": {
    "ExecuteTime": {
     "end_time": "2025-01-22T19:03:12.236679Z",
     "start_time": "2025-01-22T19:03:12.232404Z"
    }
   },
   "cell_type": "code",
   "source": "print(data2[0])",
   "id": "d2943fcc6a5da735",
   "outputs": [
    {
     "name": "stdout",
     "output_type": "stream",
     "text": [
      "page_content='A1' metadata={'alcoholic': 'Alcoholic', 'category': 'Cocktail', 'glassType': 'Cocktail glass', 'instructions': 'Pour all ingredients into a cocktail shaker, mix and serve over ice into a chilled glass.', 'ingredients': 'Gin, Grand Marnier, Lemon Juice, Grenadine', 'ingredientMeasures': \"['1 3/4 shot ', '1 Shot ', '1/4 Shot', '1/8 Shot']\"}\n"
     ]
    }
   ],
   "execution_count": 8
  },
  {
   "metadata": {
    "ExecuteTime": {
     "end_time": "2025-01-22T20:07:58.602078Z",
     "start_time": "2025-01-22T20:07:58.596714Z"
    }
   },
   "cell_type": "code",
   "source": [
    "from langchain.chains.query_constructor.base import AttributeInfo\n",
    "from langchain.retrievers.self_query.base import SelfQueryRetriever\n",
    "\n",
    "metadata_field_info = [\n",
    "    AttributeInfo(\n",
    "        name=\"alcoholic\",\n",
    "        description=\"Indicates whether the drink is alcoholic or non-alcoholic\",\n",
    "        type=\"string\",\n",
    "    ),\n",
    "    AttributeInfo(\n",
    "        name=\"category\",\n",
    "        description=\"Type of drink (e.g., Cocktail, Ordinary Drink)\",\n",
    "        type=\"string\",\n",
    "    ),\n",
    "    AttributeInfo(\n",
    "        name=\"glassType\",\n",
    "        description=\"Recommended glass type for serving\",\n",
    "        type=\"string\",\n",
    "    ),\n",
    "    AttributeInfo(\n",
    "        name=\"instructions\",\n",
    "        description=\"Preparation instructions for the drink\",\n",
    "        type=\"string\",\n",
    "    ),\n",
    "    AttributeInfo(\n",
    "        name=\"ingredients\",\n",
    "        description=\"List of ingredients used in the recipe\",\n",
    "        type=\"string\",\n",
    "    ),\n",
    "    AttributeInfo(\n",
    "        name=\"ingredientMeasures\",\n",
    "        description=\"Measurements corresponding to each ingredient\",\n",
    "        type=\"string\",\n",
    "    ),\n",
    "]\n",
    "document_content_description = \"Name of the drink\""
   ],
   "id": "8068cc079a87e8f",
   "outputs": [],
   "execution_count": 130
  },
  {
   "metadata": {
    "ExecuteTime": {
     "end_time": "2025-01-22T20:07:58.959211Z",
     "start_time": "2025-01-22T20:07:58.948033Z"
    }
   },
   "cell_type": "code",
   "source": [
    "from typing import Any, Dict, List\n",
    "\n",
    "\n",
    "class CustomSelfQueryRetriever(SelfQueryRetriever):\n",
    "    def _get_docs_with_query(\n",
    "        self, query: str, search_kwargs: Dict[str, Any]\n",
    "    ) -> List[Document]:\n",
    "        \"\"\"Get docs, adding score information.\"\"\"\n",
    "        docs, scores = zip(\n",
    "            *self.vectorstore.similarity_search_with_score(query, **search_kwargs)\n",
    "        )\n",
    "        for doc, score in zip(docs, scores):\n",
    "            doc.metadata[\"score\"] = score\n",
    "\n",
    "        return docs"
   ],
   "id": "1119e9ae55440676",
   "outputs": [],
   "execution_count": 131
  },
  {
   "metadata": {
    "ExecuteTime": {
     "end_time": "2025-01-22T18:08:35.421758Z",
     "start_time": "2025-01-22T18:08:35.407929Z"
    }
   },
   "cell_type": "code",
   "source": [
    "# text_splitter = RecursiveCharacterTextSplitter(chunk_size=1000, chunk_overlap=200, separators=[''])\n",
    "# all_splits = text_splitter.split_documents(data)"
   ],
   "id": "e278a12bae8fe012",
   "outputs": [],
   "execution_count": 225
  },
  {
   "metadata": {
    "ExecuteTime": {
     "end_time": "2025-01-22T21:29:35.427405Z",
     "start_time": "2025-01-22T21:29:35.287966Z"
    }
   },
   "cell_type": "code",
   "source": [
    "import os\n",
    "from langchain_google_genai import ChatGoogleGenerativeAI\n",
    "from langchain_google_genai import GoogleGenerativeAIEmbeddings\n",
    "\n",
    "llm = ChatGoogleGenerativeAI(model=\"gemini-1.5-pro\")\n",
    "embeddings = GoogleGenerativeAIEmbeddings(model=\"models/embedding-001\")"
   ],
   "id": "39bcee6da71e32aa",
   "outputs": [],
   "execution_count": 186
  },
  {
   "metadata": {
    "ExecuteTime": {
     "end_time": "2025-01-22T19:55:58.026222Z",
     "start_time": "2025-01-22T19:55:58.022578Z"
    }
   },
   "cell_type": "code",
   "source": [
    "from langchain_core.vectorstores import InMemoryVectorStore\n",
    "\n",
    "vector_store = InMemoryVectorStore(embeddings)\n",
    "_ = vector_store.add_documents(documents=data)"
   ],
   "id": "9cecb4fc1fffcea6",
   "outputs": [],
   "execution_count": 83
  },
  {
   "metadata": {
    "ExecuteTime": {
     "end_time": "2025-01-22T22:20:54.664846Z",
     "start_time": "2025-01-22T22:20:48.262033Z"
    }
   },
   "cell_type": "code",
   "source": [
    "from langchain.vectorstores import FAISS\n",
    "\n",
    "vector_store = FAISS.from_documents(data, embeddings)"
   ],
   "id": "fe631f9609323404",
   "outputs": [],
   "execution_count": 209
  },
  {
   "metadata": {
    "ExecuteTime": {
     "end_time": "2025-01-22T22:21:32.612343Z",
     "start_time": "2025-01-22T22:21:25.783991Z"
    }
   },
   "cell_type": "code",
   "source": [
    "from pinecone import Pinecone, ServerlessSpec\n",
    "import time\n",
    "\n",
    "if not os.getenv(\"PINECONE_API_KEY\"):\n",
    "    os.environ[\"PINECONE_API_KEY\"] = \"\"\n",
    "pinecone_api_key = os.getenv(\"PINECONE_API_KEY\")\n",
    "pc = Pinecone(api_key=pinecone_api_key)\n",
    "\n",
    "index_name = \"cocktails\"\n",
    "\n",
    "existing_indexes = [index_info[\"name\"] for index_info in pc.list_indexes()]\n",
    "\n",
    "if index_name not in existing_indexes:\n",
    "    pc.create_index(\n",
    "        name=index_name,\n",
    "        dimension=768,\n",
    "        metric=\"cosine\",\n",
    "        spec=ServerlessSpec(cloud=\"aws\", region=\"us-east-1\"),\n",
    "    )\n",
    "    while not pc.describe_index(index_name).status[\"ready\"]:\n",
    "        time.sleep(1)\n",
    "\n",
    "index = pc.Index(index_name)"
   ],
   "id": "16438e0d6959de4b",
   "outputs": [],
   "execution_count": 210
  },
  {
   "metadata": {
    "ExecuteTime": {
     "end_time": "2025-01-22T22:22:07.181455Z",
     "start_time": "2025-01-22T22:21:57.262841Z"
    }
   },
   "cell_type": "code",
   "source": [
    "from langchain_pinecone import PineconeVectorStore\n",
    "\n",
    "cocktails_vector_store = PineconeVectorStore.from_documents(\n",
    "    data, index_name=\"cocktails\", embedding=embeddings\n",
    ")\n",
    "\n",
    "# vectorstore = PineconeVectorStore(index_name=\"drinks-info\", embedding=embeddings)"
   ],
   "id": "bd6af078a344e2f5",
   "outputs": [],
   "execution_count": 211
  },
  {
   "metadata": {
    "ExecuteTime": {
     "end_time": "2025-01-22T22:22:16.252962Z",
     "start_time": "2025-01-22T22:22:16.246188Z"
    }
   },
   "cell_type": "code",
   "source": [
    "retriever = cocktails_vector_store.as_retriever(\n",
    "    # search_type=\"similarity_score_threshold\", search_kwargs={\"score_threshold\": .4, \"k\": 20}\n",
    "    search_kwargs={\"k\": 20}\n",
    ")"
   ],
   "id": "7e6f4f4d34461ffb",
   "outputs": [],
   "execution_count": 212
  },
  {
   "metadata": {
    "ExecuteTime": {
     "end_time": "2025-01-22T22:22:27.626553Z",
     "start_time": "2025-01-22T22:22:27.622321Z"
    }
   },
   "cell_type": "code",
   "source": [
    "from langchain.chains import RetrievalQA\n",
    "local_qa_chain = RetrievalQA.from_chain_type(\n",
    "    llm = llm,\n",
    "    retriever=retriever\n",
    ")"
   ],
   "id": "96665dc59955acf6",
   "outputs": [],
   "execution_count": 215
  },
  {
   "metadata": {
    "ExecuteTime": {
     "end_time": "2025-01-22T22:22:29.846220Z",
     "start_time": "2025-01-22T22:22:27.955870Z"
    }
   },
   "cell_type": "code",
   "source": [
    "res = local_qa_chain.invoke(\"What are the 5 cocktails containing lemon juice?\")\n",
    "print(res[\"result\"])"
   ],
   "id": "94f431b6f0921dc0",
   "outputs": [
    {
     "name": "stdout",
     "output_type": "stream",
     "text": [
      "Here are 5 cocktails that contain lemon juice:\n",
      "\n",
      "1. New York Lemonade\n",
      "2. Havana Cocktail\n",
      "3. Ice Pick\n",
      "4. Mojito\n",
      "5. Lemon Elderflower Spritzer\n"
     ]
    }
   ],
   "execution_count": 216
  },
  {
   "metadata": {
    "ExecuteTime": {
     "end_time": "2025-01-22T22:22:34.356117Z",
     "start_time": "2025-01-22T22:22:32.404727Z"
    }
   },
   "cell_type": "code",
   "source": [
    "res = local_qa_chain.invoke(\"What are the 5 non-alcoholic cocktails containing sugar in ingredients?\")\n",
    "print(res['result'])"
   ],
   "id": "184f45ee7ddc3393",
   "outputs": [
    {
     "name": "stdout",
     "output_type": "stream",
     "text": [
      "The following 5 non-alcoholic drinks contain sugar:\n",
      "\n",
      "1. Cranberry Punch\n",
      "2. Lassi - Sweet\n",
      "3. Fruit Cooler\n",
      "4. Egg Nog - Healthy\n",
      "5. Egg Nog #4\n"
     ]
    }
   ],
   "execution_count": 217
  },
  {
   "metadata": {
    "ExecuteTime": {
     "end_time": "2025-01-22T22:22:50.123637Z",
     "start_time": "2025-01-22T22:22:47.857423Z"
    }
   },
   "cell_type": "code",
   "source": [
    "res = local_qa_chain.invoke(\"Recommend a cocktail similar to “Hot Creamy Bush”\")\n",
    "print(res['result'])"
   ],
   "id": "734e506c0e11248a",
   "outputs": [
    {
     "name": "stdout",
     "output_type": "stream",
     "text": [
      "The \"Hot Toddy\" is similar to the \"Hot Creamy Bush\" as they are both hot alcoholic drinks served in an Irish coffee cup.  Both also contain whiskey.  The main difference is that the Hot Toddy includes honey, cinnamon, lemon, and cloves in addition to the whiskey, while the Hot Creamy Bush uses Baileys and coffee.\n"
     ]
    }
   ],
   "execution_count": 218
  },
  {
   "metadata": {
    "ExecuteTime": {
     "end_time": "2025-01-22T22:25:45.051530Z",
     "start_time": "2025-01-22T22:25:43.085155Z"
    }
   },
   "cell_type": "code",
   "source": [
    "user_input = \"My favorite ingredients are milk and honey\"\n",
    "user_vector_store = PineconeVectorStore(index_name=\"user-memories\", embedding=embeddings)\n",
    "document_1 = Document(\n",
    "    page_content=user_input,\n",
    "    metadata={\"source\": \"user\"},\n",
    ")\n",
    "user_vector_store.add_documents(documents=[document_1])"
   ],
   "id": "394ab8934ad7193a",
   "outputs": [
    {
     "data": {
      "text/plain": [
       "['aa9f6de1-7ee3-49c6-adc4-54e4bee343fe']"
      ]
     },
     "execution_count": 219,
     "metadata": {},
     "output_type": "execute_result"
    }
   ],
   "execution_count": 219
  },
  {
   "metadata": {
    "ExecuteTime": {
     "end_time": "2025-01-22T23:07:36.913249Z",
     "start_time": "2025-01-22T23:07:36.873811Z"
    }
   },
   "cell_type": "code",
   "source": [
    "from langchain_core.tools import tool\n",
    "\n",
    "@tool\n",
    "def user_mem_retrieve(query: str):\n",
    "    \"\"\"Retrieve information about user favorite cocktails and ingredients.\"\"\"\n",
    "    retrieved_docs = user_vector_store.similarity_search(query, k=10)\n",
    "    serialized = \"\\n\\n\".join(\n",
    "        f\"Source: {doc.metadata}\\n\" f\"Content: {doc.page_content}\"\n",
    "        for doc in retrieved_docs\n",
    "    )\n",
    "    return serialized, retrieved_docs"
   ],
   "id": "8181d3e001d85bc0",
   "outputs": [],
   "execution_count": 270
  },
  {
   "metadata": {
    "ExecuteTime": {
     "end_time": "2025-01-22T22:59:44.164309Z",
     "start_time": "2025-01-22T22:59:44.144056Z"
    }
   },
   "cell_type": "code",
   "source": [
    "@tool\n",
    "def cocktails_retrieve(query: str):\n",
    "    \"\"\"Retrieve information about cocktails from local document database.\"\"\"\n",
    "    retrieved_docs = cocktails_vector_store.similarity_search(query, k=20)\n",
    "    serialized = \"\\n\\n\".join(\n",
    "        f\"Source: {doc.metadata}\\n\" f\"Content: {doc.page_content}\"\n",
    "        for doc in retrieved_docs\n",
    "    )\n",
    "    return serialized, retrieved_docs"
   ],
   "id": "185f37bcfc68920e",
   "outputs": [],
   "execution_count": 257
  },
  {
   "metadata": {
    "ExecuteTime": {
     "end_time": "2025-01-22T23:07:41.527189Z",
     "start_time": "2025-01-22T23:07:41.484195Z"
    }
   },
   "cell_type": "code",
   "source": [
    "from langchain_core.messages import SystemMessage\n",
    "from langgraph.prebuilt import create_react_agent\n",
    "\n",
    "system_message = \"You are a cocktail advisor.\"\n",
    "\n",
    "model = ChatGoogleGenerativeAI(model=\"gemini-1.5-pro\")\n",
    "\n",
    "langgraph_agent_executor = create_react_agent(\n",
    "    model, [user_mem_retrieve, cocktails_retrieve], state_modifier=system_message\n",
    ")"
   ],
   "id": "fa6f8048c486b77e",
   "outputs": [],
   "execution_count": 271
  },
  {
   "metadata": {
    "ExecuteTime": {
     "end_time": "2025-01-23T02:01:51.335158Z",
     "start_time": "2025-01-23T02:01:42.453210Z"
    }
   },
   "cell_type": "code",
   "source": [
    "# messages = langgraph_agent_executor.invoke({\"messages\": [(\"user\", \"What are my favourite ingredients?\")]})\n",
    "messages = langgraph_agent_executor.invoke({\"messages\": [(\"user\", \"Recommend 5 cocktails that contain my favourite ingredients\")]})"
   ],
   "id": "6b00645b30360c80",
   "outputs": [],
   "execution_count": 314
  },
  {
   "metadata": {
    "ExecuteTime": {
     "end_time": "2025-01-23T02:01:52.145298Z",
     "start_time": "2025-01-23T02:01:52.140855Z"
    }
   },
   "cell_type": "code",
   "source": [
    "for mes in messages[\"messages\"]:\n",
    "    mes.pretty_print()"
   ],
   "id": "f16d195e062670d7",
   "outputs": [
    {
     "name": "stdout",
     "output_type": "stream",
     "text": [
      "================================\u001B[1m Human Message \u001B[0m=================================\n",
      "\n",
      "Recommend 5 cocktails that contain my favourite ingredients\n",
      "==================================\u001B[1m Ai Message \u001B[0m==================================\n",
      "Tool Calls:\n",
      "  user_mem_retrieve (d002b6e4-3ca2-4540-9f2f-cdf7b4614b46)\n",
      " Call ID: d002b6e4-3ca2-4540-9f2f-cdf7b4614b46\n",
      "  Args:\n",
      "    query: favorite ingredients\n",
      "=================================\u001B[1m Tool Message \u001B[0m=================================\n",
      "Name: user_mem_retrieve\n",
      "\n",
      "(\"Source: {'source': 'user'}\\nContent: My favorite ingredients are milk and honey\\n\\nSource: {'source': 'user'}\\nContent: I like lime\", [Document(id='aa9f6de1-7ee3-49c6-adc4-54e4bee343fe', metadata={'source': 'user'}, page_content='My favorite ingredients are milk and honey'), Document(id='e3eb009d-f43f-46c8-aac9-cd8a98a00cb3', metadata={'source': 'user'}, page_content='I like lime')])\n",
      "==================================\u001B[1m Ai Message \u001B[0m==================================\n",
      "Tool Calls:\n",
      "  cocktails_retrieve (2ed32c57-9742-4baa-9b1b-aca08bd5a65c)\n",
      " Call ID: 2ed32c57-9742-4baa-9b1b-aca08bd5a65c\n",
      "  Args:\n",
      "    query: milk AND honey AND lime\n",
      "=================================\u001B[1m Tool Message \u001B[0m=================================\n",
      "Name: cocktails_retrieve\n",
      "\n",
      "(\"Source: {'row': 153.0, 'source': 'drinks.csv'}\\nContent: drink_name: Honey Bee\\nis_alcoholic: Alcoholic\\ncategory: Cocktail\\nglassType: Margarita glass\\ndrink_ingredients: White Rum, Honey, Lemon Juice\\ndrink_instructions: Shake ingredients with crushed ice\\ningredientMeasures: ['6 cl', '2 cl', '2 cl']\\n\\nSource: {'row': 57.0, 'source': 'drinks.csv'}\\nContent: drink_name: Corn n Oil\\nis_alcoholic: Alcoholic\\ncategory: Cocktail\\nglassType: Old-fashioned glass\\ndrink_ingredients: Lime, Falernum, Angostura Bitters, Añejo rum, blackstrap rum\\ndrink_instructions: Cut the half lime in half again. Add the lime, falernum, and bitters to a rocks glass. Muddle. Add the rum. (Aged Barbados rum such as Plantation 5 Year is recommended). Add ice and stir. Float the blackstrap rum on top. Serve with a straw.\\ningredientMeasures: ['1/2', '1/3 oz', '2 dashes', '1 oz', '1 oz']\\n\\nSource: {'row': 209.0, 'source': 'drinks.csv'}\\nContent: drink_name: Limeade\\nis_alcoholic: Non alcoholic\\ncategory: Other / Unknown\\nglassType: Highball glass\\ndrink_ingredients: Lime, Sugar, Soda water, Lime peel\\ndrink_instructions: In a large glass, put the lime juice and sugar, and stir well. Add cold seltzer water to fill. Put the lime peels in the glass. Drink. Repeat until limes or soda run out.\\ningredientMeasures: ['Juice of 1 ', '1 tblsp ', ' (seltzer water)\\\\n', None]\\n\\nSource: {'row': 169.0, 'source': 'drinks.csv'}\\nContent: drink_name: Ipamena\\nis_alcoholic: Non alcoholic\\ncategory: Ordinary Drink\\nglassType: Wine Glass\\ndrink_ingredients: Lime, Brown sugar, Passion fruit juice, Ginger ale, Ice\\ndrink_instructions: Cut half a lime into pieces, place in a shaker, add the sugar and crush. Measure the passion fruit juice, add it to the shaker and fill up with ice cubes. Close the shaker and shake vigorously. Pour the liquid into a glass, top up with ginger ale, stir with a teaspoon and then garnish the rim of the glass with a slice of lime\\ningredientMeasures: ['½', '2 tsp', '4 cl', 'top up with', 'fill']\\n\\nSource: {'row': 220.0, 'source': 'drinks.csv'}\\nContent: drink_name: Lassi - Sweet\\nis_alcoholic: Non alcoholic\\ncategory: Other / Unknown\\nglassType: Highball glass\\ndrink_ingredients: Yoghurt, Water, Sugar, Salt, Lemon juice\\ndrink_instructions: Put all ingredients into a blender and blend until nice and frothy. Serve chilled.\\ningredientMeasures: ['1 cup ', '2 cups cold ', '4 tblsp ', 'pinch ', '2 tblsp ']\\n\\nSource: {'row': 356.0, 'source': 'drinks.csv'}\\nContent: drink_name: Sweet Bananas\\nis_alcoholic: Non alcoholic\\ncategory: Shake\\nglassType: Highball Glass\\ndrink_ingredients: Milk, Banana, Honey\\ndrink_instructions: Place all ingredients in the blender jar - cover and whiz on medium speed until well blended. Pour in one tall, 2 medium or 3 small glasses and drink up.\\ningredientMeasures: ['2 cups ', '1 ', '1 tblsp ']\\n\\nSource: {'row': 230.0, 'source': 'drinks.csv'}\\nContent: drink_name: Lassi - A South Indian Drink\\nis_alcoholic: Non alcoholic\\ncategory: Other / Unknown\\nglassType: Highball Glass\\ndrink_ingredients: Yoghurt, Water, Cumin seed, Salt, Mint\\ndrink_instructions: Blend in a blender for 3 seconds. Lassi is one of the easiest things to make, and there are many ways of making it. Basically, it is buttermilk (yoghurt whisked with water), and you can choose almost any consistency that you like, from the thinnest to the thickest. Serve cold.\\ningredientMeasures: ['1/2 cup plain ', '1 1/4 cup cold ', '1/2 tsp ground roasted ', '1/4 tsp ', '1/4 tsp dried ']\\n\\nSource: {'row': 208.0, 'source': 'drinks.csv'}\\nContent: drink_name: Kill the cold Smoothie\\nis_alcoholic: Non alcoholic\\ncategory: Other / Unknown\\nglassType: Highball glass\\ndrink_ingredients: Ginger, Lemon, Water\\ndrink_instructions: Juice ginger and lemon and add it to hot water. You may add cardomom.\\ningredientMeasures: ['1 inch ', '1/4 ', '1 cup hot ']\\n\\nSource: {'row': 219.0, 'source': 'drinks.csv'}\\nContent: drink_name: Lassi - Mango\\nis_alcoholic: Non alcoholic\\ncategory: Other / Unknown\\nglassType: Highball glass\\ndrink_ingredients: Mango, Yoghurt, Sugar, Water\\ndrink_instructions: Put it all in a blender and pour over crushed ice. You can also use other fruits like strawberries and bananas.\\ningredientMeasures: ['2 ', '2 cups ', '1/2 cup ', '1 cup iced ']\\n\\nSource: {'row': 301.0, 'source': 'drinks.csv'}\\nContent: drink_name: Queen Bee\\nis_alcoholic: Alcoholic\\ncategory: Ordinary Drink\\nglassType: Cocktail glass\\ndrink_ingredients: Coffee brandy, Lime vodka, Sherry\\ndrink_instructions: Shake all ingredients with ice, strain into a cocktail glass, and serve.\\ningredientMeasures: ['1 oz ', '1 1/2 oz ', '1/2 oz cream ']\\n\\nSource: {'row': 231.0, 'source': 'drinks.csv'}\\nContent: drink_name: Melya\\nis_alcoholic: Non alcoholic\\ncategory: Coffee / Tea\\nglassType: Coffee mug\\ndrink_ingredients: Espresso, Honey, Cocoa powder\\ndrink_instructions: Brew espresso. In a coffee mug, place 1 teaspoon of unsweetened powdered cocoa, then cover a teaspoon with honey and drizzle it into the cup. Stir while the coffee brews, this is the fun part. The cocoa seems to coat the honey without mixing, so you get a dusty, sticky mass that looks as though it will never mix. Then all at once, presto! It looks like dark chocolate sauce. Pour hot espresso over the honey, stirring to dissolve. Serve with cream.\\ningredientMeasures: [None, 'Unsweetened ', None]\\n\\nSource: {'row': 299.0, 'source': 'drinks.csv'}\\nContent: drink_name: Pineapple Gingerale Smoothie\\nis_alcoholic: Non alcoholic\\ncategory: Other / Unknown\\nglassType: Highball Glass\\ndrink_ingredients: Ginger, Pineapple\\ndrink_instructions: Throw everything into a blender and liquify.\\ningredientMeasures: ['1/4 inch ', '1/2 ']\\n\\nSource: {'row': 215.0, 'source': 'drinks.csv'}\\nContent: drink_name: Lassi Raita\\nis_alcoholic: Non alcoholic\\ncategory: Other / Unknown\\nglassType: Highball Glass\\ndrink_ingredients: Yoghurt, Ice, Sugar, Lime, Salt\\ndrink_instructions: Blend the yoghurt and ice cubes together, until the yoghurt becomes more liquid. Add sugar to taste. The lemon/lime is optional but it gives it a slightly tart taste. Dash of salt. Raita is also good for the summer. Instead of having a traditional salad you can make raita instead.\\ningredientMeasures: ['2 cups ', '4-6 ', None, None, None]\\n\\nSource: {'row': 326.0, 'source': 'drinks.csv'}\\nContent: drink_name: Rum Milk Punch\\nis_alcoholic: Alcoholic\\ncategory: Ordinary Drink\\nglassType: Collins glass\\ndrink_ingredients: Light rum, Milk, Powdered sugar, Nutmeg\\ndrink_instructions: Shake all ingredients (except nutmeg) with ice and strain into a collins glass. Sprinkle nutmeg on top and serve.\\ningredientMeasures: ['2 oz ', '1 cup ', '1 tsp ', None]\\n\\nSource: {'row': 58.0, 'source': 'drinks.csv'}\\nContent: drink_name: Citrus Coke\\nis_alcoholic: Alcoholic\\ncategory: Soft Drink\\nglassType: Highball Glass\\ndrink_ingredients: Bacardi Limon, Coca-Cola\\ndrink_instructions: Pour half of coke in a glass. Then add Bacardi and top it off with the remaining coke. Stir and drink up!\\ningredientMeasures: ['1 part ', '2 parts ']\\n\\nSource: {'row': 216.0, 'source': 'drinks.csv'}\\nContent: drink_name: Lemouroudji\\nis_alcoholic: Non alcoholic\\ncategory: Other / Unknown\\nglassType: Highball Glass\\ndrink_ingredients: Ginger, Water, Lemon, Sugar, Cayenne pepper\\ndrink_instructions: Juice the lemons. Peel and grate the ginger. Place the grated ginger and a liberal dash of the cayenne pepper into a piece of cheesecloth, and tie it into a knot. Let soak in the water. After 15 minutes or so, add the sugar, and the lemon juice. Chill, and serve.\\ningredientMeasures: ['2 pieces ', '1 gal ', '1 lb ', '1 cup ', 'ground ']\\n\\nSource: {'row': 207.0, 'source': 'drinks.csv'}\\nContent: drink_name: Kiwi Papaya Smoothie\\nis_alcoholic: Non alcoholic\\ncategory: Other / Unknown\\nglassType: Highball Glass\\ndrink_ingredients: Kiwi, Papaya\\ndrink_instructions: Throw everything into a blender and liquify.\\ningredientMeasures: ['3 ', '1/2 ']\\n\\nSource: {'row': 53.0, 'source': 'drinks.csv'}\\nContent: drink_name: Cream Soda\\nis_alcoholic: Alcoholic\\ncategory: Cocktail\\nglassType: Highball glass\\ndrink_ingredients: Spiced rum, Ginger ale\\ndrink_instructions: Pour 1oz of Spiced Rum into a highball glass with ice. Fill with Ginger Ale.\\ningredientMeasures: ['1 oz ', None]\\n\\nSource: {'row': 185.0, 'source': 'drinks.csv'}\\nContent: drink_name: Jamaica Kiss\\nis_alcoholic: Alcoholic\\ncategory: Shake\\nglassType: Hurricane glass\\ndrink_ingredients: Coffee liqueur, Light rum, Ice, Milk\\ndrink_instructions: Fill a tumbler with ice cubes. Add a shot of Tia Maria and a shot of Jamaican light rum. Fill the tumbler with milk. Blend until smooth and serve immediately.\\ningredientMeasures: ['1 shot ', '1 shot Jamaican ', 'cubes', None]\\n\\nSource: {'row': 61.0, 'source': 'drinks.csv'}\\nContent: drink_name: Caipirissima\\nis_alcoholic: Alcoholic\\ncategory: Ordinary Drink\\nglassType: Collins Glass\\ndrink_ingredients: Lime, Sugar, White rum, Ice\\ndrink_instructions: Same as Caipirinha but instead of cachaca you add WHITE RUM. It's great!!!!!!!!\\ningredientMeasures: ['2 ', '2 tblsp ', '2-3 oz ', 'crushed ']\", [Document(id='bb4fe4fb-97ef-4b17-ae11-071c45f659ee', metadata={'row': 153.0, 'source': 'drinks.csv'}, page_content=\"drink_name: Honey Bee\\nis_alcoholic: Alcoholic\\ncategory: Cocktail\\nglassType: Margarita glass\\ndrink_ingredients: White Rum, Honey, Lemon Juice\\ndrink_instructions: Shake ingredients with crushed ice\\ningredientMeasures: ['6 cl', '2 cl', '2 cl']\"), Document(id='6b470369-545b-4726-8652-96cc008bda08', metadata={'row': 57.0, 'source': 'drinks.csv'}, page_content=\"drink_name: Corn n Oil\\nis_alcoholic: Alcoholic\\ncategory: Cocktail\\nglassType: Old-fashioned glass\\ndrink_ingredients: Lime, Falernum, Angostura Bitters, Añejo rum, blackstrap rum\\ndrink_instructions: Cut the half lime in half again. Add the lime, falernum, and bitters to a rocks glass. Muddle. Add the rum. (Aged Barbados rum such as Plantation 5 Year is recommended). Add ice and stir. Float the blackstrap rum on top. Serve with a straw.\\ningredientMeasures: ['1/2', '1/3 oz', '2 dashes', '1 oz', '1 oz']\"), Document(id='1aae7e59-7d97-463e-ba93-51d9d78989e6', metadata={'row': 209.0, 'source': 'drinks.csv'}, page_content=\"drink_name: Limeade\\nis_alcoholic: Non alcoholic\\ncategory: Other / Unknown\\nglassType: Highball glass\\ndrink_ingredients: Lime, Sugar, Soda water, Lime peel\\ndrink_instructions: In a large glass, put the lime juice and sugar, and stir well. Add cold seltzer water to fill. Put the lime peels in the glass. Drink. Repeat until limes or soda run out.\\ningredientMeasures: ['Juice of 1 ', '1 tblsp ', ' (seltzer water)\\\\n', None]\"), Document(id='5c02a9c5-23a4-4cc8-9647-cddd4696f67e', metadata={'row': 169.0, 'source': 'drinks.csv'}, page_content=\"drink_name: Ipamena\\nis_alcoholic: Non alcoholic\\ncategory: Ordinary Drink\\nglassType: Wine Glass\\ndrink_ingredients: Lime, Brown sugar, Passion fruit juice, Ginger ale, Ice\\ndrink_instructions: Cut half a lime into pieces, place in a shaker, add the sugar and crush. Measure the passion fruit juice, add it to the shaker and fill up with ice cubes. Close the shaker and shake vigorously. Pour the liquid into a glass, top up with ginger ale, stir with a teaspoon and then garnish the rim of the glass with a slice of lime\\ningredientMeasures: ['½', '2 tsp', '4 cl', 'top up with', 'fill']\"), Document(id='5dd80dbd-9961-4af5-b933-742300c6e1b7', metadata={'row': 220.0, 'source': 'drinks.csv'}, page_content=\"drink_name: Lassi - Sweet\\nis_alcoholic: Non alcoholic\\ncategory: Other / Unknown\\nglassType: Highball glass\\ndrink_ingredients: Yoghurt, Water, Sugar, Salt, Lemon juice\\ndrink_instructions: Put all ingredients into a blender and blend until nice and frothy. Serve chilled.\\ningredientMeasures: ['1 cup ', '2 cups cold ', '4 tblsp ', 'pinch ', '2 tblsp ']\"), Document(id='4b03abee-7396-4287-8f67-314bfffeace6', metadata={'row': 356.0, 'source': 'drinks.csv'}, page_content=\"drink_name: Sweet Bananas\\nis_alcoholic: Non alcoholic\\ncategory: Shake\\nglassType: Highball Glass\\ndrink_ingredients: Milk, Banana, Honey\\ndrink_instructions: Place all ingredients in the blender jar - cover and whiz on medium speed until well blended. Pour in one tall, 2 medium or 3 small glasses and drink up.\\ningredientMeasures: ['2 cups ', '1 ', '1 tblsp ']\"), Document(id='e6fa275d-6034-43d7-897a-7f0b4414ff3a', metadata={'row': 230.0, 'source': 'drinks.csv'}, page_content=\"drink_name: Lassi - A South Indian Drink\\nis_alcoholic: Non alcoholic\\ncategory: Other / Unknown\\nglassType: Highball Glass\\ndrink_ingredients: Yoghurt, Water, Cumin seed, Salt, Mint\\ndrink_instructions: Blend in a blender for 3 seconds. Lassi is one of the easiest things to make, and there are many ways of making it. Basically, it is buttermilk (yoghurt whisked with water), and you can choose almost any consistency that you like, from the thinnest to the thickest. Serve cold.\\ningredientMeasures: ['1/2 cup plain ', '1 1/4 cup cold ', '1/2 tsp ground roasted ', '1/4 tsp ', '1/4 tsp dried ']\"), Document(id='06794f62-bc53-4688-a48b-4c2e533fae6d', metadata={'row': 208.0, 'source': 'drinks.csv'}, page_content=\"drink_name: Kill the cold Smoothie\\nis_alcoholic: Non alcoholic\\ncategory: Other / Unknown\\nglassType: Highball glass\\ndrink_ingredients: Ginger, Lemon, Water\\ndrink_instructions: Juice ginger and lemon and add it to hot water. You may add cardomom.\\ningredientMeasures: ['1 inch ', '1/4 ', '1 cup hot ']\"), Document(id='e0c352dd-14ce-4217-9e8e-d4436fadd55c', metadata={'row': 219.0, 'source': 'drinks.csv'}, page_content=\"drink_name: Lassi - Mango\\nis_alcoholic: Non alcoholic\\ncategory: Other / Unknown\\nglassType: Highball glass\\ndrink_ingredients: Mango, Yoghurt, Sugar, Water\\ndrink_instructions: Put it all in a blender and pour over crushed ice. You can also use other fruits like strawberries and bananas.\\ningredientMeasures: ['2 ', '2 cups ', '1/2 cup ', '1 cup iced ']\"), Document(id='721139a0-b9df-44d3-9252-449863915f08', metadata={'row': 301.0, 'source': 'drinks.csv'}, page_content=\"drink_name: Queen Bee\\nis_alcoholic: Alcoholic\\ncategory: Ordinary Drink\\nglassType: Cocktail glass\\ndrink_ingredients: Coffee brandy, Lime vodka, Sherry\\ndrink_instructions: Shake all ingredients with ice, strain into a cocktail glass, and serve.\\ningredientMeasures: ['1 oz ', '1 1/2 oz ', '1/2 oz cream ']\"), Document(id='0d039929-3639-4d4c-919c-a990943dc75a', metadata={'row': 231.0, 'source': 'drinks.csv'}, page_content=\"drink_name: Melya\\nis_alcoholic: Non alcoholic\\ncategory: Coffee / Tea\\nglassType: Coffee mug\\ndrink_ingredients: Espresso, Honey, Cocoa powder\\ndrink_instructions: Brew espresso. In a coffee mug, place 1 teaspoon of unsweetened powdered cocoa, then cover a teaspoon with honey and drizzle it into the cup. Stir while the coffee brews, this is the fun part. The cocoa seems to coat the honey without mixing, so you get a dusty, sticky mass that looks as though it will never mix. Then all at once, presto! It looks like dark chocolate sauce. Pour hot espresso over the honey, stirring to dissolve. Serve with cream.\\ningredientMeasures: [None, 'Unsweetened ', None]\"), Document(id='90cd21b4-6153-499f-b44e-ecc27da97ceb', metadata={'row': 299.0, 'source': 'drinks.csv'}, page_content=\"drink_name: Pineapple Gingerale Smoothie\\nis_alcoholic: Non alcoholic\\ncategory: Other / Unknown\\nglassType: Highball Glass\\ndrink_ingredients: Ginger, Pineapple\\ndrink_instructions: Throw everything into a blender and liquify.\\ningredientMeasures: ['1/4 inch ', '1/2 ']\"), Document(id='af710c8d-6fef-4cd5-b666-b79611c69219', metadata={'row': 215.0, 'source': 'drinks.csv'}, page_content=\"drink_name: Lassi Raita\\nis_alcoholic: Non alcoholic\\ncategory: Other / Unknown\\nglassType: Highball Glass\\ndrink_ingredients: Yoghurt, Ice, Sugar, Lime, Salt\\ndrink_instructions: Blend the yoghurt and ice cubes together, until the yoghurt becomes more liquid. Add sugar to taste. The lemon/lime is optional but it gives it a slightly tart taste. Dash of salt. Raita is also good for the summer. Instead of having a traditional salad you can make raita instead.\\ningredientMeasures: ['2 cups ', '4-6 ', None, None, None]\"), Document(id='42bac372-b4fa-4c3f-a812-c3074d1106b9', metadata={'row': 326.0, 'source': 'drinks.csv'}, page_content=\"drink_name: Rum Milk Punch\\nis_alcoholic: Alcoholic\\ncategory: Ordinary Drink\\nglassType: Collins glass\\ndrink_ingredients: Light rum, Milk, Powdered sugar, Nutmeg\\ndrink_instructions: Shake all ingredients (except nutmeg) with ice and strain into a collins glass. Sprinkle nutmeg on top and serve.\\ningredientMeasures: ['2 oz ', '1 cup ', '1 tsp ', None]\"), Document(id='7e18c83c-f9a2-4aca-ad0a-065a5f6a3a61', metadata={'row': 58.0, 'source': 'drinks.csv'}, page_content=\"drink_name: Citrus Coke\\nis_alcoholic: Alcoholic\\ncategory: Soft Drink\\nglassType: Highball Glass\\ndrink_ingredients: Bacardi Limon, Coca-Cola\\ndrink_instructions: Pour half of coke in a glass. Then add Bacardi and top it off with the remaining coke. Stir and drink up!\\ningredientMeasures: ['1 part ', '2 parts ']\"), Document(id='bc6bd9df-2d7c-4baf-ab4c-dc07a5de0057', metadata={'row': 216.0, 'source': 'drinks.csv'}, page_content=\"drink_name: Lemouroudji\\nis_alcoholic: Non alcoholic\\ncategory: Other / Unknown\\nglassType: Highball Glass\\ndrink_ingredients: Ginger, Water, Lemon, Sugar, Cayenne pepper\\ndrink_instructions: Juice the lemons. Peel and grate the ginger. Place the grated ginger and a liberal dash of the cayenne pepper into a piece of cheesecloth, and tie it into a knot. Let soak in the water. After 15 minutes or so, add the sugar, and the lemon juice. Chill, and serve.\\ningredientMeasures: ['2 pieces ', '1 gal ', '1 lb ', '1 cup ', 'ground ']\"), Document(id='81573254-7471-4d86-b8a0-3f8907d31c5a', metadata={'row': 207.0, 'source': 'drinks.csv'}, page_content=\"drink_name: Kiwi Papaya Smoothie\\nis_alcoholic: Non alcoholic\\ncategory: Other / Unknown\\nglassType: Highball Glass\\ndrink_ingredients: Kiwi, Papaya\\ndrink_instructions: Throw everything into a blender and liquify.\\ningredientMeasures: ['3 ', '1/2 ']\"), Document(id='9d5736ee-3db6-448a-9cf4-86d5e0c1866a', metadata={'row': 53.0, 'source': 'drinks.csv'}, page_content=\"drink_name: Cream Soda\\nis_alcoholic: Alcoholic\\ncategory: Cocktail\\nglassType: Highball glass\\ndrink_ingredients: Spiced rum, Ginger ale\\ndrink_instructions: Pour 1oz of Spiced Rum into a highball glass with ice. Fill with Ginger Ale.\\ningredientMeasures: ['1 oz ', None]\"), Document(id='3d1c9dc3-9c9e-4e37-b5e3-d90768e5abec', metadata={'row': 185.0, 'source': 'drinks.csv'}, page_content=\"drink_name: Jamaica Kiss\\nis_alcoholic: Alcoholic\\ncategory: Shake\\nglassType: Hurricane glass\\ndrink_ingredients: Coffee liqueur, Light rum, Ice, Milk\\ndrink_instructions: Fill a tumbler with ice cubes. Add a shot of Tia Maria and a shot of Jamaican light rum. Fill the tumbler with milk. Blend until smooth and serve immediately.\\ningredientMeasures: ['1 shot ', '1 shot Jamaican ', 'cubes', None]\"), Document(id='48765ecd-9cbc-4c3b-a714-d056f1ffb27c', metadata={'row': 61.0, 'source': 'drinks.csv'}, page_content=\"drink_name: Caipirissima\\nis_alcoholic: Alcoholic\\ncategory: Ordinary Drink\\nglassType: Collins Glass\\ndrink_ingredients: Lime, Sugar, White rum, Ice\\ndrink_instructions: Same as Caipirinha but instead of cachaca you add WHITE RUM. It's great!!!!!!!!\\ningredientMeasures: ['2 ', '2 tblsp ', '2-3 oz ', 'crushed ']\")])\n",
      "==================================\u001B[1m Ai Message \u001B[0m==================================\n",
      "\n",
      "Based on your preferences for milk, honey and lime, here are 5 cocktail recommendations:\n",
      "\n",
      "1. Honey Bee: A refreshing mix of white rum, honey, and lemon juice.\n",
      "2. Corn n Oil: A unique blend of lime, falernum, bitters, and aged rum.\n",
      "3. Limeade: A simple and non-alcoholic drink with lime, sugar, and soda water.\n",
      "4. Ipamena: Another non-alcoholic option featuring lime, brown sugar, passion fruit juice, and ginger ale.\n",
      "5. Sweet Bananas: A creamy and satisfying smoothie with milk, banana, and honey.\n"
     ]
    }
   ],
   "execution_count": 315
  },
  {
   "metadata": {
    "ExecuteTime": {
     "end_time": "2025-01-22T23:51:04.146991Z",
     "start_time": "2025-01-22T23:51:04.142728Z"
    }
   },
   "cell_type": "code",
   "source": "print(messages[\"messages\"][-1].content)",
   "id": "aca0da961ee716ba",
   "outputs": [
    {
     "name": "stdout",
     "output_type": "stream",
     "text": [
      "Based on your liking for milk, honey and lime, I recommend the following cocktails:\n",
      "\n",
      "1. Honey Bee: A refreshing mix of white rum, honey, and lemon juice.\n",
      "2. Sweet Bananas: A creamy blend of milk, banana, and honey.\n",
      "3. Rum Milk Punch: A comforting combination of light rum, milk, powdered sugar, and a sprinkle of nutmeg.\n",
      "4. Jamaica Kiss: An indulgent mix of coffee liqueur, light rum, milk, and ice, blended until smooth.\n",
      "5. Limeade: A simple and thirst-quenching non-alcoholic drink made with lime, sugar, and soda water. \n"
     ]
    }
   ],
   "execution_count": 289
  },
  {
   "metadata": {
    "ExecuteTime": {
     "end_time": "2025-01-22T23:45:22.479494Z",
     "start_time": "2025-01-22T23:45:22.474214Z"
    }
   },
   "cell_type": "code",
   "source": "",
   "id": "a6ef325d6fba5756",
   "outputs": [
    {
     "data": {
      "text/plain": [
       "\"content='Based on your liking for milk, honey and lime, I recommend the following cocktails:\\\\n\\\\n1. Honey Bee: A refreshing mix of white rum, honey, and lemon juice.\\\\n2. Sweet Bananas: A creamy blend of milk, banana, and honey.\\\\n3. Rum Milk Punch: A comforting combination of light rum, milk, powdered sugar, and a sprinkle of nutmeg.\\\\n4. Jamaica Kiss: An indulgent mix of coffee liqueur, light rum, milk, and ice, blended until smooth.\\\\n5. Limeade: A simple and thirst-quenching non-alcoholic drink made with lime, sugar, and soda water. ' additional_kwargs={} response_metadata={'prompt_feedback': {'block_reason': 0, 'safety_ratings': []}, 'finish_reason': 'STOP', 'safety_ratings': []} id='run-d2838e68-6402-41a5-831b-c74bddc89205-0' usage_metadata={'input_tokens': 6684, 'output_tokens': 132, 'total_tokens': 6816, 'input_token_details': {'cache_read': 0}}\""
      ]
     },
     "execution_count": 284,
     "metadata": {},
     "output_type": "execute_result"
    }
   ],
   "execution_count": 284
  },
  {
   "metadata": {
    "ExecuteTime": {
     "end_time": "2025-01-22T22:55:32.773472Z",
     "start_time": "2025-01-22T22:55:29.719638Z"
    }
   },
   "cell_type": "code",
   "source": [
    "user_input = \"I like lime\"\n",
    "\n",
    "document_1 = Document(\n",
    "    page_content=user_input,\n",
    "    metadata={\"source\": \"user\"},\n",
    ")\n",
    "\n",
    "from langchain_core.prompts import ChatPromptTemplate\n",
    "user_vector_store.add_documents(documents=[document_1])"
   ],
   "id": "fee4e8bbd3201ee4",
   "outputs": [
    {
     "data": {
      "text/plain": [
       "['e3eb009d-f43f-46c8-aac9-cd8a98a00cb3']"
      ]
     },
     "execution_count": 253,
     "metadata": {},
     "output_type": "execute_result"
    }
   ],
   "execution_count": 253
  },
  {
   "metadata": {
    "ExecuteTime": {
     "end_time": "2025-01-23T00:19:22.385875Z",
     "start_time": "2025-01-23T00:19:22.312518Z"
    }
   },
   "cell_type": "code",
   "source": [
    "from pydantic import BaseModel, Field\n",
    "class Preferences(BaseModel):\n",
    "    \"\"\"Information about user favorite cocktails and ingredients.\"\"\"\n",
    "    name: str = Field(\n",
    "        ..., description=\"Name of cocktail or ingredient\"\n",
    "    )\n",
    "    type: str = Field(\n",
    "        ..., description=\"Is it ingredient or cocktail?\"\n",
    "    )\n",
    "    attitude: str = Field(\n",
    "        ..., description=\"How does the user feel about it?\"\n",
    "    )\n",
    "\n",
    "class ExtractionData(BaseModel):\n",
    "    \"\"\"Extracted information about  user favorite cocktails or ingredients.\"\"\"\n",
    "    favorite_things: List[Preferences]\n",
    "\n",
    "prompt = ChatPromptTemplate.from_messages(\n",
    "    [\n",
    "        (\n",
    "            \"system\",\n",
    "            \"You are an expert at identifying user favorite ingredients and cocktails in text.\"\n",
    "            \"Only extract favorite ingredients and cocktails. Extract nothing if no important information can be found in the text.\",\n",
    "        ),\n",
    "        (\"human\", \"{text}\"),\n",
    "    ]\n",
    ")\n",
    "\n",
    "llm = ChatGoogleGenerativeAI(model=\"gemini-1.5-flash\")\n",
    "extractor = prompt | llm.with_structured_output(\n",
    "    schema=ExtractionData,\n",
    "    include_raw=False,\n",
    ")"
   ],
   "id": "5199b2488ab6ae19",
   "outputs": [],
   "execution_count": 297
  },
  {
   "metadata": {
    "ExecuteTime": {
     "end_time": "2025-01-23T00:28:55.684084Z",
     "start_time": "2025-01-23T00:28:54.742282Z"
    }
   },
   "cell_type": "code",
   "source": "res = extractor.invoke(user_input)",
   "id": "f95d9ab1ed1163ec",
   "outputs": [],
   "execution_count": 304
  },
  {
   "metadata": {
    "ExecuteTime": {
     "end_time": "2025-01-23T00:34:24.418616Z",
     "start_time": "2025-01-23T00:34:24.414282Z"
    }
   },
   "cell_type": "code",
   "source": [
    "for preference in res.favorite_things:\n",
    "    document = Document(\n",
    "        page_content=str(preference.content),\n",
    "        metadata={\"source\": \"user\"},\n",
    "    )\n",
    "    user_vector_store.add_documents(documents=[document])"
   ],
   "id": "f1af7b38e82c32f2",
   "outputs": [
    {
     "name": "stdout",
     "output_type": "stream",
     "text": [
      "name='lime' type='ingredient' attitude='like'\n",
      "name='vodka' type='ingredient' attitude='like'\n"
     ]
    }
   ],
   "execution_count": 312
  },
  {
   "metadata": {
    "ExecuteTime": {
     "end_time": "2025-01-22T22:54:07.131561Z",
     "start_time": "2025-01-22T22:54:02.500414Z"
    }
   },
   "cell_type": "code",
   "source": "messages = langgraph_agent_executor.invoke({\"messages\": [(\"user\", \"I like lime\")]})",
   "id": "12dd9b35420c1a1d",
   "outputs": [],
   "execution_count": 251
  },
  {
   "metadata": {
    "ExecuteTime": {
     "end_time": "2025-01-22T20:24:39.444343Z",
     "start_time": "2025-01-22T20:24:39.185617Z"
    }
   },
   "cell_type": "code",
   "source": [
    "# from langgraph.graph import START, StateGraph\n",
    "#\n",
    "# # Define prompt for question-answering\n",
    "# prompt = hub.pull(\"rlm/rag-prompt\")\n",
    "#\n",
    "#\n",
    "# # Define state for application\n",
    "# class State(TypedDict):\n",
    "#     question: str\n",
    "#     context: List[Document]\n",
    "#     answer: str\n",
    "#\n",
    "#\n",
    "# # Define application steps\n",
    "# def retrieve(state: State):\n",
    "#     retrieved_docs = vector_store.similarity_search(state[\"question\"], k=10)\n",
    "#     print(retrieved_docs)\n",
    "#     return {\"context\": retrieved_docs}\n",
    "#\n",
    "#\n",
    "# def generate(state: State):\n",
    "#     docs_content = \"\\n\\n\".join(doc.page_content for doc in state[\"context\"])\n",
    "#     messages = prompt.invoke({\"question\": state[\"question\"], \"context\": docs_content})\n",
    "#     response = llm.invoke(messages)\n",
    "#     return {\"answer\": response.content}\n",
    "#\n",
    "#\n",
    "# # Compile application and test\n",
    "# graph_builder = StateGraph(State).add_sequence([retrieve, generate])\n",
    "# graph_builder.add_edge(START, \"retrieve\")\n",
    "# graph = graph_builder.compile()"
   ],
   "id": "36176bf6bedda6d2",
   "outputs": [
    {
     "name": "stderr",
     "output_type": "stream",
     "text": [
      "/Users/liubchyk/Desktop/work-course/test_tasks/CocktailAdvisorChat/.venv/lib/python3.12/site-packages/langsmith/client.py:253: LangSmithMissingAPIKeyWarning: API key must be provided when using hosted LangSmith API\n",
      "  warnings.warn(\n"
     ]
    }
   ],
   "execution_count": 175
  },
  {
   "metadata": {
    "ExecuteTime": {
     "end_time": "2025-01-22T20:34:18.828439Z",
     "start_time": "2025-01-22T20:34:18.825620Z"
    }
   },
   "cell_type": "code",
   "source": [
    "# response = graph.invoke({\"question\": \"What are the 5 cocktails containing lemon?\"})\n",
    "# print(response[\"answer\"])"
   ],
   "id": "554e1684df7e0b13",
   "outputs": [],
   "execution_count": 182
  },
  {
   "metadata": {
    "ExecuteTime": {
     "end_time": "2025-01-22T20:34:21.936080Z",
     "start_time": "2025-01-22T20:34:21.932802Z"
    }
   },
   "cell_type": "code",
   "source": [
    "# response = graph.invoke({\"question\": \"Which ingredients are in Frisco Sour?\"})\n",
    "# print(response[\"answer\"])"
   ],
   "id": "a2b859f717abd1aa",
   "outputs": [],
   "execution_count": 183
  },
  {
   "metadata": {
    "ExecuteTime": {
     "end_time": "2025-01-22T20:34:23.963550Z",
     "start_time": "2025-01-22T20:34:23.960897Z"
    }
   },
   "cell_type": "code",
   "source": [
    "# response = graph.invoke({\"question\": \"What are the 5 non-alcoholic drinks containing sugar?\"})\n",
    "# print(response[\"answer\"])"
   ],
   "id": "ca9a609bd4ad147a",
   "outputs": [],
   "execution_count": 184
  },
  {
   "metadata": {
    "ExecuteTime": {
     "end_time": "2025-01-22T20:34:26.520638Z",
     "start_time": "2025-01-22T20:34:26.517757Z"
    }
   },
   "cell_type": "code",
   "source": [
    "# response = graph.invoke({\"question\": \"What is A1?\"})\n",
    "# print(response[\"answer\"])"
   ],
   "id": "e7c90b9568035721",
   "outputs": [],
   "execution_count": 185
  },
  {
   "metadata": {},
   "cell_type": "code",
   "outputs": [],
   "execution_count": null,
   "source": "",
   "id": "4e971194dd812f5e"
  }
 ],
 "metadata": {
  "kernelspec": {
   "display_name": "Python 3",
   "language": "python",
   "name": "python3"
  },
  "language_info": {
   "codemirror_mode": {
    "name": "ipython",
    "version": 2
   },
   "file_extension": ".py",
   "mimetype": "text/x-python",
   "name": "python",
   "nbconvert_exporter": "python",
   "pygments_lexer": "ipython2",
   "version": "2.7.6"
  }
 },
 "nbformat": 4,
 "nbformat_minor": 5
}
